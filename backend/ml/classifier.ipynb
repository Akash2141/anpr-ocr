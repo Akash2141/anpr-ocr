{
 "cells": [
  {
   "cell_type": "code",
   "execution_count": 1,
   "id": "9cb9c234",
   "metadata": {},
   "outputs": [],
   "source": [
    "import pandas as pd\n",
    "import numpy as np\n",
    "import cv2\n",
    "from keras.preprocessing.image import ImageDataGenerator\n",
    "from keras.models import Sequential\n",
    "from keras.layers import Conv2D, MaxPooling2D, Dense, Flatten, Dropout\n",
    "from keras.preprocessing import image\n",
    "from sklearn.metrics import classification_report\n",
    "from keras.metrics import Precision\n",
    "%matplotlib inline"
   ]
  },
  {
   "cell_type": "code",
   "execution_count": 2,
   "id": "04bebcb2",
   "metadata": {},
   "outputs": [],
   "source": [
    "train_dir=\"./dataset/train\"\n",
    "validate_dir=\"./dataset/val\"\n",
    "test_dir=\"./dataset/test\"\n",
    "batch = 20\n",
    "epochs = 40"
   ]
  },
  {
   "cell_type": "code",
   "execution_count": 3,
   "id": "4fce8b10",
   "metadata": {},
   "outputs": [],
   "source": [
    "def show_img(img,name=\"image\"):\n",
    "    cv2.imshow(name,img)\n",
    "    cv2.waitKey(0)\n",
    "    cv2.destroyAllWindows()"
   ]
  },
  {
   "cell_type": "code",
   "execution_count": 4,
   "id": "13b4245c",
   "metadata": {},
   "outputs": [],
   "source": [
    "model=Sequential()\n",
    "model.add(Conv2D(64,(3,3),input_shape=(64,64,1),activation='relu'))\n",
    "model.add(MaxPooling2D(pool_size=(2,2)))\n",
    "model.add(Conv2D(64,(3,3),activation='relu'))\n",
    "model.add(MaxPooling2D(pool_size=(2,2)))\n",
    "model.add(Conv2D(32,(3,3),activation='relu'))\n",
    "model.add(MaxPooling2D(pool_size=(2,2)))\n",
    "model.add(Conv2D(32,(3,3),activation='relu'))\n",
    "model.add(MaxPooling2D(pool_size=(2,2)))\n",
    "model.add(Flatten())\n",
    "model.add(Dense(units=128,activation='relu'))\n",
    "model.add(Dropout(0.5))\n",
    "model.add(Dense(units=128,activation='relu'))\n",
    "model.add(Dropout(0.5))\n",
    "model.add(Dense(units=36,activation='sigmoid'))\n",
    "model.compile(optimizer='adam',loss='categorical_crossentropy',metrics=[Precision()])"
   ]
  },
  {
   "cell_type": "code",
   "execution_count": 5,
   "id": "4a90fb5d",
   "metadata": {},
   "outputs": [
    {
     "name": "stdout",
     "output_type": "stream",
     "text": [
      "Found 20628 images belonging to 36 classes.\n"
     ]
    }
   ],
   "source": [
    "train_datagen=ImageDataGenerator(rescale = 1./255,\n",
    "                                   shear_range = 0.2,\n",
    "                                   zoom_range = 0.2,\n",
    "                                    horizontal_flip = False)\n",
    "\n",
    "training_set=train_datagen.flow_from_directory(directory = train_dir,\n",
    "                                                 target_size = (64, 64),\n",
    "                                                 color_mode='grayscale',\n",
    "                                                 batch_size = batch,\n",
    "                                                 class_mode = 'categorical')"
   ]
  },
  {
   "cell_type": "code",
   "execution_count": 6,
   "id": "3ad7f035",
   "metadata": {},
   "outputs": [
    {
     "name": "stdout",
     "output_type": "stream",
     "text": [
      "Found 972 images belonging to 36 classes.\n"
     ]
    }
   ],
   "source": [
    "test_datagen=ImageDataGenerator(rescale = 1./255)\n",
    "test_set=test_datagen.flow_from_directory(directory = test_dir,\n",
    "                                            target_size = (64, 64),\n",
    "                                            color_mode='grayscale',\n",
    "                                            batch_size = batch,\n",
    "                                            class_mode = 'categorical')"
   ]
  },
  {
   "cell_type": "code",
   "execution_count": 7,
   "id": "02019cbb",
   "metadata": {},
   "outputs": [
    {
     "name": "stdout",
     "output_type": "stream",
     "text": [
      "Found 2160 images belonging to 36 classes.\n"
     ]
    }
   ],
   "source": [
    "val_datagen=ImageDataGenerator(rescale = 1./255)\n",
    "val_set=val_datagen.flow_from_directory(directory = validate_dir,\n",
    "                                            target_size = (64, 64),\n",
    "                                            color_mode='grayscale',\n",
    "                                            batch_size = batch,\n",
    "                                            class_mode = 'categorical')"
   ]
  },
  {
   "cell_type": "code",
   "execution_count": 8,
   "id": "3939fa77",
   "metadata": {},
   "outputs": [
    {
     "name": "stdout",
     "output_type": "stream",
     "text": [
      "Epoch 1/40\n"
     ]
    },
    {
     "name": "stderr",
     "output_type": "stream",
     "text": [
      "C:\\Users\\Akash\\AppData\\Local\\Temp\\ipykernel_24408\\3616471183.py:1: UserWarning: `Model.fit_generator` is deprecated and will be removed in a future version. Please use `Model.fit`, which supports generators.\n",
      "  model.fit_generator(\n"
     ]
    },
    {
     "name": "stdout",
     "output_type": "stream",
     "text": [
      "1031/1031 [==============================] - 67s 64ms/step - loss: 2.0390 - precision: 0.1074 - val_loss: 0.5008 - val_precision: 0.2384\n",
      "Epoch 2/40\n",
      "1031/1031 [==============================] - 69s 67ms/step - loss: 0.8588 - precision: 0.2222 - val_loss: 0.1735 - val_precision: 0.2605\n",
      "Epoch 3/40\n",
      "1031/1031 [==============================] - 73s 71ms/step - loss: 0.6074 - precision: 0.2414 - val_loss: 0.1096 - val_precision: 0.2940\n",
      "Epoch 4/40\n",
      "1031/1031 [==============================] - 59s 57ms/step - loss: 0.5127 - precision: 0.2557 - val_loss: 0.1165 - val_precision: 0.3137\n",
      "Epoch 5/40\n",
      "1031/1031 [==============================] - 55s 54ms/step - loss: 0.4418 - precision: 0.2678 - val_loss: 0.0836 - val_precision: 0.3229\n",
      "Epoch 6/40\n",
      "1031/1031 [==============================] - 58s 56ms/step - loss: 0.3997 - precision: 0.2772 - val_loss: 0.0778 - val_precision: 0.3342\n",
      "Epoch 7/40\n",
      "1031/1031 [==============================] - 56s 54ms/step - loss: 0.3681 - precision: 0.2892 - val_loss: 0.0620 - val_precision: 0.3637\n",
      "Epoch 8/40\n",
      "1031/1031 [==============================] - 55s 53ms/step - loss: 0.3544 - precision: 0.3035 - val_loss: 0.0718 - val_precision: 0.3752\n",
      "Epoch 9/40\n",
      "1031/1031 [==============================] - 55s 53ms/step - loss: 0.3204 - precision: 0.3129 - val_loss: 0.0647 - val_precision: 0.3884\n",
      "Epoch 10/40\n",
      "1031/1031 [==============================] - 55s 53ms/step - loss: 0.3086 - precision: 0.3292 - val_loss: 0.0599 - val_precision: 0.4256\n",
      "Epoch 11/40\n",
      "1031/1031 [==============================] - 55s 53ms/step - loss: 0.2929 - precision: 0.3393 - val_loss: 0.0544 - val_precision: 0.4309\n",
      "Epoch 12/40\n",
      "1031/1031 [==============================] - 55s 53ms/step - loss: 0.2823 - precision: 0.3550 - val_loss: 0.0602 - val_precision: 0.4442\n",
      "Epoch 13/40\n",
      "1031/1031 [==============================] - 57s 56ms/step - loss: 0.2719 - precision: 0.3715 - val_loss: 0.0553 - val_precision: 0.4813\n",
      "Epoch 14/40\n",
      "1031/1031 [==============================] - 57s 55ms/step - loss: 0.2667 - precision: 0.3833 - val_loss: 0.0527 - val_precision: 0.5323\n",
      "Epoch 15/40\n",
      "1031/1031 [==============================] - 55s 54ms/step - loss: 0.2527 - precision: 0.3991 - val_loss: 0.0637 - val_precision: 0.5575\n",
      "Epoch 16/40\n",
      "1031/1031 [==============================] - 55s 53ms/step - loss: 0.2458 - precision: 0.4161 - val_loss: 0.0515 - val_precision: 0.5451\n",
      "Epoch 17/40\n",
      "1031/1031 [==============================] - 56s 54ms/step - loss: 0.2445 - precision: 0.4252 - val_loss: 0.0491 - val_precision: 0.5763\n",
      "Epoch 18/40\n",
      "1031/1031 [==============================] - 54s 52ms/step - loss: 0.2328 - precision: 0.4350 - val_loss: 0.0527 - val_precision: 0.5641\n",
      "Epoch 19/40\n",
      "1031/1031 [==============================] - 56s 54ms/step - loss: 0.2367 - precision: 0.4515 - val_loss: 0.0461 - val_precision: 0.5978\n",
      "Epoch 20/40\n",
      "1031/1031 [==============================] - 57s 55ms/step - loss: 0.2327 - precision: 0.4607 - val_loss: 0.0457 - val_precision: 0.6424\n",
      "Epoch 21/40\n",
      "1031/1031 [==============================] - 59s 57ms/step - loss: 0.2225 - precision: 0.4694 - val_loss: 0.0462 - val_precision: 0.6239\n",
      "Epoch 22/40\n",
      "1031/1031 [==============================] - 61s 59ms/step - loss: 0.2169 - precision: 0.4783 - val_loss: 0.0469 - val_precision: 0.6892\n",
      "Epoch 23/40\n",
      "1031/1031 [==============================] - 58s 56ms/step - loss: 0.2247 - precision: 0.4910 - val_loss: 0.0447 - val_precision: 0.6562\n",
      "Epoch 24/40\n",
      "1031/1031 [==============================] - 57s 55ms/step - loss: 0.2155 - precision: 0.5039 - val_loss: 0.0497 - val_precision: 0.6668\n",
      "Epoch 25/40\n",
      "1031/1031 [==============================] - 64s 62ms/step - loss: 0.2058 - precision: 0.5183 - val_loss: 0.0466 - val_precision: 0.6785\n",
      "Epoch 26/40\n",
      "1031/1031 [==============================] - 53s 51ms/step - loss: 0.2091 - precision: 0.5300 - val_loss: 0.0493 - val_precision: 0.6825\n",
      "Epoch 27/40\n",
      "1031/1031 [==============================] - 57s 56ms/step - loss: 0.2053 - precision: 0.5373 - val_loss: 0.0427 - val_precision: 0.6859\n",
      "Epoch 28/40\n",
      "1031/1031 [==============================] - 59s 57ms/step - loss: 0.2138 - precision: 0.5394 - val_loss: 0.0546 - val_precision: 0.6986\n",
      "Epoch 29/40\n",
      "1031/1031 [==============================] - 62s 60ms/step - loss: 0.1930 - precision: 0.5544 - val_loss: 0.0530 - val_precision: 0.6943\n",
      "Epoch 30/40\n",
      "1031/1031 [==============================] - 51s 50ms/step - loss: 0.1954 - precision: 0.5632 - val_loss: 0.0452 - val_precision: 0.7399\n",
      "Epoch 31/40\n",
      "1031/1031 [==============================] - 53s 52ms/step - loss: 0.1912 - precision: 0.5773 - val_loss: 0.0447 - val_precision: 0.7600\n",
      "Epoch 32/40\n",
      "1031/1031 [==============================] - 57s 55ms/step - loss: 0.1928 - precision: 0.5858 - val_loss: 0.0453 - val_precision: 0.7835\n",
      "Epoch 33/40\n",
      "1031/1031 [==============================] - 52s 51ms/step - loss: 0.1895 - precision: 0.6010 - val_loss: 0.0465 - val_precision: 0.7672\n",
      "Epoch 34/40\n",
      "1031/1031 [==============================] - 57s 55ms/step - loss: 0.1834 - precision: 0.6064 - val_loss: 0.0518 - val_precision: 0.7869\n",
      "Epoch 35/40\n",
      "1031/1031 [==============================] - 56s 54ms/step - loss: 0.1806 - precision: 0.6173 - val_loss: 0.0451 - val_precision: 0.7816\n",
      "Epoch 36/40\n",
      "1031/1031 [==============================] - 53s 52ms/step - loss: 0.1859 - precision: 0.6220 - val_loss: 0.0441 - val_precision: 0.8076\n",
      "Epoch 37/40\n",
      "1031/1031 [==============================] - 54s 52ms/step - loss: 0.1762 - precision: 0.6358 - val_loss: 0.0476 - val_precision: 0.8001\n",
      "Epoch 38/40\n",
      "1031/1031 [==============================] - 56s 55ms/step - loss: 0.1786 - precision: 0.6501 - val_loss: 0.0419 - val_precision: 0.8025\n",
      "Epoch 39/40\n",
      "1031/1031 [==============================] - 57s 55ms/step - loss: 0.1788 - precision: 0.6409 - val_loss: 0.0400 - val_precision: 0.8283\n",
      "Epoch 40/40\n",
      "1031/1031 [==============================] - 53s 51ms/step - loss: 0.1793 - precision: 0.6545 - val_loss: 0.0414 - val_precision: 0.8410\n"
     ]
    },
    {
     "data": {
      "text/plain": [
       "<keras.callbacks.History at 0x26d385b2490>"
      ]
     },
     "execution_count": 8,
     "metadata": {},
     "output_type": "execute_result"
    }
   ],
   "source": [
    "model.fit_generator(\n",
    "    training_set,\n",
    "    steps_per_epoch=training_set.samples // batch,\n",
    "    epochs=epochs,\n",
    "    validation_data=val_set,\n",
    "    validation_steps=val_set.samples // batch)"
   ]
  },
  {
   "cell_type": "code",
   "execution_count": 9,
   "id": "9afddc39",
   "metadata": {},
   "outputs": [
    {
     "name": "stderr",
     "output_type": "stream",
     "text": [
      "C:\\Users\\Akash\\AppData\\Local\\Temp\\ipykernel_24408\\664459255.py:1: UserWarning: `Model.predict_generator` is deprecated and will be removed in a future version. Please use `Model.predict`, which supports generators.\n",
      "  predict = model.predict_generator(test_set,steps = test_set.samples//batch)\n"
     ]
    },
    {
     "name": "stdout",
     "output_type": "stream",
     "text": [
      "              precision    recall  f1-score   support\n",
      "\n",
      "           0       0.04      0.04      0.04        27\n",
      "           1       0.04      0.04      0.04        27\n",
      "           2       0.04      0.04      0.04        27\n",
      "           3       0.04      0.04      0.04        27\n",
      "           4       0.00      0.00      0.00        27\n",
      "           5       0.00      0.00      0.00        27\n",
      "           6       0.00      0.00      0.00        27\n",
      "           7       0.04      0.04      0.04        27\n",
      "           8       0.00      0.00      0.00        27\n",
      "           9       0.00      0.00      0.00        27\n",
      "          10       0.04      0.04      0.04        27\n",
      "          11       0.00      0.00      0.00        27\n",
      "          12       0.11      0.11      0.11        27\n",
      "          13       0.00      0.00      0.00        27\n",
      "          14       0.00      0.00      0.00        27\n",
      "          15       0.00      0.00      0.00        27\n",
      "          16       0.00      0.00      0.00        27\n",
      "          17       0.07      0.07      0.07        27\n",
      "          18       0.00      0.00      0.00        27\n",
      "          19       0.00      0.00      0.00        27\n",
      "          20       0.00      0.00      0.00        27\n",
      "          21       0.07      0.07      0.07        27\n",
      "          22       0.04      0.04      0.04        27\n",
      "          23       0.04      0.04      0.04        27\n",
      "          24       0.00      0.00      0.00        27\n",
      "          25       0.07      0.07      0.07        27\n",
      "          26       0.00      0.00      0.00        27\n",
      "          27       0.00      0.00      0.00        27\n",
      "          28       0.08      0.07      0.08        27\n",
      "          29       0.00      0.00      0.00        27\n",
      "          30       0.04      0.04      0.04        27\n",
      "          31       0.00      0.00      0.00        27\n",
      "          32       0.00      0.00      0.00        27\n",
      "          33       0.04      0.04      0.04        27\n",
      "          34       0.04      0.04      0.04        27\n",
      "          35       0.00      0.00      0.00        15\n",
      "\n",
      "    accuracy                           0.02       960\n",
      "   macro avg       0.02      0.02      0.02       960\n",
      "weighted avg       0.02      0.02      0.02       960\n",
      "\n"
     ]
    }
   ],
   "source": [
    "predict = model.predict_generator(test_set,steps = test_set.samples//batch)\n",
    "y_pred = np.argmax(predict, axis=-1)\n",
    "test_labels=test_set.classes \n",
    "print(classification_report(test_labels[:len(y_pred)], y_pred))"
   ]
  },
  {
   "cell_type": "code",
   "execution_count": 20,
   "id": "c6f6fad2",
   "metadata": {},
   "outputs": [],
   "source": [
    "model.save('modelwts2.h5')"
   ]
  }
 ],
 "metadata": {
  "kernelspec": {
   "display_name": "Python 3 (ipykernel)",
   "language": "python",
   "name": "python3"
  },
  "language_info": {
   "codemirror_mode": {
    "name": "ipython",
    "version": 3
   },
   "file_extension": ".py",
   "mimetype": "text/x-python",
   "name": "python",
   "nbconvert_exporter": "python",
   "pygments_lexer": "ipython3",
   "version": "3.9.13"
  }
 },
 "nbformat": 4,
 "nbformat_minor": 5
}
